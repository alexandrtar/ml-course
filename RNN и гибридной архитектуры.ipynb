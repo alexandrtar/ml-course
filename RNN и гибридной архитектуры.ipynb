{
 "cells": [
  {
   "cell_type": "markdown",
   "id": "70188b5e-a592-4f6e-a11f-4fd32e957afb",
   "metadata": {},
   "source": [
    "1"
   ]
  },
  {
   "cell_type": "code",
   "execution_count": 2,
   "id": "79d56540-2c35-4754-9362-70f9e4f59c7c",
   "metadata": {},
   "outputs": [
    {
     "name": "stdout",
     "output_type": "stream",
     "text": [
      "t-статистика: -2.510, p-значение: 0.046\n",
      "Отвергаем нулевую гипотезу (средние отличаются)\n"
     ]
    }
   ],
   "source": [
    "import numpy as np\n",
    "from scipy import stats\n",
    "\n",
    "# Данные\n",
    "population_mean = 75.1\n",
    "sample = np.array([56, 81, 72, 65, 67, 62, 70])\n",
    "\n",
    "# Одновыборочный t-тест\n",
    "t_stat, p_value = stats.ttest_1samp(sample, population_mean)\n",
    "\n",
    "print(f\"t-статистика: {t_stat:.3f}, p-значение: {p_value:.3f}\")\n",
    "if p_value > 0.05:\n",
    "    print(\"Не отвергаем нулевую гипотезу (средние равны)\")\n",
    "else:\n",
    "    print(\"Отвергаем нулевую гипотезу (средние отличаются)\")"
   ]
  },
  {
   "cell_type": "markdown",
   "id": "d096e60c-ab90-4309-8942-a3f044d04326",
   "metadata": {},
   "source": [
    "2"
   ]
  },
  {
   "cell_type": "code",
   "execution_count": 11,
   "id": "7550abdf-782c-4aa2-9f47-13a3790446f4",
   "metadata": {},
   "outputs": [
    {
     "name": "stdout",
     "output_type": "stream",
     "text": [
      "z-статистика: 1.065, p-значение: 0.287\n",
      "Не отвергаем нулевую гипотезу (средние равны)\n"
     ]
    }
   ],
   "source": [
    "# Данные\n",
    "n = 35\n",
    "sample_mean = 144\n",
    "population_mean = 135\n",
    "std = 50\n",
    "\n",
    "# Z-тест (при известной сигме)\n",
    "z_stat = (sample_mean - population_mean) / (std / np.sqrt(n))\n",
    "p_value = 2 * (1 - stats.norm.cdf(abs(z_stat)))\n",
    "\n",
    "print(f\"z-статистика: {z_stat:.3f}, p-значение: {p_value:.3f}\")\n",
    "if p_value > 0.05:\n",
    "    print(\"Не отвергаем нулевую гипотезу (средние равны)\")\n",
    "    \n",
    "else:\n",
    "    print(\"Отвергаем нулевую гипотезу (средние отличаются)\")"
   ]
  },
  {
   "cell_type": "markdown",
   "id": "d1ba7fc9-591f-464b-b563-5ab1bfff15c2",
   "metadata": {},
   "source": [
    "3"
   ]
  },
  {
   "cell_type": "code",
   "execution_count": 12,
   "id": "7f27fe00-9630-47e7-925c-110a6a3854ef",
   "metadata": {},
   "outputs": [
    {
     "name": "stdout",
     "output_type": "stream",
     "text": [
      "95% доверительный интервал: (11.46, 13.34)\n"
     ]
    }
   ],
   "source": [
    "# Данные\n",
    "n = 100\n",
    "mean = 12.4\n",
    "std = 4.8\n",
    "confidence_level = 0.95\n",
    "\n",
    "# Доверительный интервал\n",
    "se = std / np.sqrt(n)\n",
    "ci = stats.norm.interval(confidence_level, loc=mean, scale=se)\n",
    "\n",
    "print(f\"95% доверительный интервал: ({ci[0]:.2f}, {ci[1]:.2f})\")"
   ]
  },
  {
   "cell_type": "markdown",
   "id": "38d3dc20-4da1-4ce3-b6d5-5cc4b3552610",
   "metadata": {},
   "source": [
    "4"
   ]
  },
  {
   "cell_type": "code",
   "execution_count": 13,
   "id": "fe51f58e-68cc-4ba4-b71d-ffd3ada5379b",
   "metadata": {},
   "outputs": [
    {
     "name": "stdout",
     "output_type": "stream",
     "text": [
      "95% доверительный интервал: (6.42, 10.25)\n"
     ]
    }
   ],
   "source": [
    "# Данные\n",
    "n = 54\n",
    "sum_x = 450\n",
    "sum_sq_dev = 2600\n",
    "confidence_level = 0.95\n",
    "\n",
    "# Вычисления\n",
    "mean = sum_x / n\n",
    "std = np.sqrt(sum_sq_dev / (n - 1))\n",
    "se = std / np.sqrt(n)\n",
    "ci = stats.t.interval(confidence_level, df=n-1, loc=mean, scale=se)\n",
    "\n",
    "print(f\"95% доверительный интервал: ({ci[0]:.2f}, {ci[1]:.2f})\")"
   ]
  },
  {
   "cell_type": "markdown",
   "id": "82f0db06-be8a-47d1-b616-a4b1fcb6e9c3",
   "metadata": {},
   "source": [
    "5"
   ]
  },
  {
   "cell_type": "code",
   "execution_count": 14,
   "id": "618cc08f-e683-476d-847e-e154af47a68f",
   "metadata": {},
   "outputs": [
    {
     "name": "stdout",
     "output_type": "stream",
     "text": [
      "U-статистика: 38.5, p-значение: 0.490\n",
      "Не отвергаем нулевую гипотезу (средние равны)\n"
     ]
    }
   ],
   "source": [
    "# Данные\n",
    "X = [-2, 1, 4, -1, 5, 7, 9, 0, 12]\n",
    "Y = [6, -3, 2, 1, 0, 4, 2]\n",
    "\n",
    "# Критерий Манна-Уитни\n",
    "stat, p_value = stats.mannwhitneyu(X, Y, alternative='two-sided')\n",
    "\n",
    "print(f\"U-статистика: {stat}, p-значение: {p_value:.3f}\")\n",
    "if p_value > 0.05:\n",
    "    print(\"Не отвергаем нулевую гипотезу (средние равны)\")\n",
    "else:\n",
    "    print(\"Отвергаем нулевую гипотезу (средние отличаются)\")"
   ]
  },
  {
   "cell_type": "code",
   "execution_count": null,
   "id": "facf19ad-cb87-4938-92dd-0eb6f3de8106",
   "metadata": {},
   "outputs": [],
   "source": []
  }
 ],
 "metadata": {
  "kernelspec": {
   "display_name": "Python 3 (ipykernel)",
   "language": "python",
   "name": "python3"
  },
  "language_info": {
   "codemirror_mode": {
    "name": "ipython",
    "version": 3
   },
   "file_extension": ".py",
   "mimetype": "text/x-python",
   "name": "python",
   "nbconvert_exporter": "python",
   "pygments_lexer": "ipython3",
   "version": "3.12.3"
  }
 },
 "nbformat": 4,
 "nbformat_minor": 5
}
